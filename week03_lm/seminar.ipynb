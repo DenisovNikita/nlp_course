{
 "cells": [
  {
   "cell_type": "markdown",
   "metadata": {
    "cellId": "k1gpzj4guo8e1riwj3om1k"
   },
   "source": [
    "### N-gram language models or how to write scientific papers (4 pts)\n",
    "\n",
    "We shall train our language model on a corpora of [ArXiv](http://arxiv.org/) articles and see if we can generate a new one!\n",
    "\n",
    "![img](https://media.npr.org/assets/img/2013/12/10/istock-18586699-monkey-computer_brick-16e5064d3378a14e0e4c2da08857efe03c04695e-s800-c85.jpg)\n",
    "\n",
    "_data by neelshah18 from [here](https://www.kaggle.com/neelshah18/arxivdataset/)_\n",
    "\n",
    "_Disclaimer: this has nothing to do with actual science. But it's fun, so who cares?!_"
   ]
  },
  {
   "cell_type": "code",
   "execution_count": 1,
   "metadata": {
    "cellId": "u8jdaiy68oib3jvr4k01"
   },
   "outputs": [],
   "source": [
    "import numpy as np\n",
    "import pandas as pd\n",
    "import matplotlib.pyplot as plt\n",
    "%matplotlib inline"
   ]
  },
  {
   "cell_type": "code",
   "execution_count": 2,
   "metadata": {
    "cellId": "0c76vnyl3zui9yhtkodgrlf"
   },
   "outputs": [
    {
     "data": {
      "text/html": [
       "<div>\n",
       "<style scoped>\n",
       "    .dataframe tbody tr th:only-of-type {\n",
       "        vertical-align: middle;\n",
       "    }\n",
       "\n",
       "    .dataframe tbody tr th {\n",
       "        vertical-align: top;\n",
       "    }\n",
       "\n",
       "    .dataframe thead th {\n",
       "        text-align: right;\n",
       "    }\n",
       "</style>\n",
       "<table border=\"1\" class=\"dataframe\">\n",
       "  <thead>\n",
       "    <tr style=\"text-align: right;\">\n",
       "      <th></th>\n",
       "      <th>author</th>\n",
       "      <th>day</th>\n",
       "      <th>id</th>\n",
       "      <th>link</th>\n",
       "      <th>month</th>\n",
       "      <th>summary</th>\n",
       "      <th>tag</th>\n",
       "      <th>title</th>\n",
       "      <th>year</th>\n",
       "    </tr>\n",
       "  </thead>\n",
       "  <tbody>\n",
       "    <tr>\n",
       "      <th>39421</th>\n",
       "      <td>[{'name': 'Ruzena Bajcsy'}, {'name': 'Yiannis ...</td>\n",
       "      <td>8</td>\n",
       "      <td>1603.02729v2</td>\n",
       "      <td>[{'rel': 'alternate', 'href': 'http://arxiv.or...</td>\n",
       "      <td>3</td>\n",
       "      <td>Despite the recent successes in robotics, arti...</td>\n",
       "      <td>[{'term': 'cs.CV', 'scheme': 'http://arxiv.org...</td>\n",
       "      <td>Revisiting Active Perception</td>\n",
       "      <td>2016</td>\n",
       "    </tr>\n",
       "    <tr>\n",
       "      <th>16309</th>\n",
       "      <td>[{'name': 'Dani Yogatama'}, {'name': 'Phil Blu...</td>\n",
       "      <td>28</td>\n",
       "      <td>1611.09100v1</td>\n",
       "      <td>[{'rel': 'alternate', 'href': 'http://arxiv.or...</td>\n",
       "      <td>11</td>\n",
       "      <td>We use reinforcement learning to learn tree-st...</td>\n",
       "      <td>[{'term': 'cs.CL', 'scheme': 'http://arxiv.org...</td>\n",
       "      <td>Learning to Compose Words into Sentences with ...</td>\n",
       "      <td>2016</td>\n",
       "    </tr>\n",
       "    <tr>\n",
       "      <th>3306</th>\n",
       "      <td>[{'name': 'Stefan Hadjis'}, {'name': 'Firas Ab...</td>\n",
       "      <td>16</td>\n",
       "      <td>1504.04343v2</td>\n",
       "      <td>[{'rel': 'alternate', 'href': 'http://arxiv.or...</td>\n",
       "      <td>4</td>\n",
       "      <td>We present Caffe con Troll (CcT), a fully comp...</td>\n",
       "      <td>[{'term': 'cs.LG', 'scheme': 'http://arxiv.org...</td>\n",
       "      <td>Caffe con Troll: Shallow Ideas to Speed Up Dee...</td>\n",
       "      <td>2015</td>\n",
       "    </tr>\n",
       "    <tr>\n",
       "      <th>23196</th>\n",
       "      <td>[{'name': 'Salem Saleh Al-amri'}, {'name': 'N....</td>\n",
       "      <td>5</td>\n",
       "      <td>1002.1148v1</td>\n",
       "      <td>[{'rel': 'alternate', 'href': 'http://arxiv.or...</td>\n",
       "      <td>2</td>\n",
       "      <td>This paper attempts to undertake the study of ...</td>\n",
       "      <td>[{'term': 'cs.CV', 'scheme': 'http://arxiv.org...</td>\n",
       "      <td>A Comparative Study of Removal Noise from Remo...</td>\n",
       "      <td>2010</td>\n",
       "    </tr>\n",
       "    <tr>\n",
       "      <th>30673</th>\n",
       "      <td>[{'name': 'Ebrahim Nasr-Esfahani'}, {'name': '...</td>\n",
       "      <td>29</td>\n",
       "      <td>1712.10207v1</td>\n",
       "      <td>[{'rel': 'alternate', 'href': 'http://arxiv.or...</td>\n",
       "      <td>12</td>\n",
       "      <td>Skin cancer is a deadly disease and is on the ...</td>\n",
       "      <td>[{'term': 'cs.CV', 'scheme': 'http://arxiv.org...</td>\n",
       "      <td>Dense Fully Convolutional Network for Skin Les...</td>\n",
       "      <td>2017</td>\n",
       "    </tr>\n",
       "  </tbody>\n",
       "</table>\n",
       "</div>"
      ],
      "text/plain": [
       "                                                  author  day            id  \\\n",
       "39421  [{'name': 'Ruzena Bajcsy'}, {'name': 'Yiannis ...    8  1603.02729v2   \n",
       "16309  [{'name': 'Dani Yogatama'}, {'name': 'Phil Blu...   28  1611.09100v1   \n",
       "3306   [{'name': 'Stefan Hadjis'}, {'name': 'Firas Ab...   16  1504.04343v2   \n",
       "23196  [{'name': 'Salem Saleh Al-amri'}, {'name': 'N....    5   1002.1148v1   \n",
       "30673  [{'name': 'Ebrahim Nasr-Esfahani'}, {'name': '...   29  1712.10207v1   \n",
       "\n",
       "                                                    link  month  \\\n",
       "39421  [{'rel': 'alternate', 'href': 'http://arxiv.or...      3   \n",
       "16309  [{'rel': 'alternate', 'href': 'http://arxiv.or...     11   \n",
       "3306   [{'rel': 'alternate', 'href': 'http://arxiv.or...      4   \n",
       "23196  [{'rel': 'alternate', 'href': 'http://arxiv.or...      2   \n",
       "30673  [{'rel': 'alternate', 'href': 'http://arxiv.or...     12   \n",
       "\n",
       "                                                 summary  \\\n",
       "39421  Despite the recent successes in robotics, arti...   \n",
       "16309  We use reinforcement learning to learn tree-st...   \n",
       "3306   We present Caffe con Troll (CcT), a fully comp...   \n",
       "23196  This paper attempts to undertake the study of ...   \n",
       "30673  Skin cancer is a deadly disease and is on the ...   \n",
       "\n",
       "                                                     tag  \\\n",
       "39421  [{'term': 'cs.CV', 'scheme': 'http://arxiv.org...   \n",
       "16309  [{'term': 'cs.CL', 'scheme': 'http://arxiv.org...   \n",
       "3306   [{'term': 'cs.LG', 'scheme': 'http://arxiv.org...   \n",
       "23196  [{'term': 'cs.CV', 'scheme': 'http://arxiv.org...   \n",
       "30673  [{'term': 'cs.CV', 'scheme': 'http://arxiv.org...   \n",
       "\n",
       "                                                   title  year  \n",
       "39421                       Revisiting Active Perception  2016  \n",
       "16309  Learning to Compose Words into Sentences with ...  2016  \n",
       "3306   Caffe con Troll: Shallow Ideas to Speed Up Dee...  2015  \n",
       "23196  A Comparative Study of Removal Noise from Remo...  2010  \n",
       "30673  Dense Fully Convolutional Network for Skin Les...  2017  "
      ]
     },
     "execution_count": 2,
     "metadata": {},
     "output_type": "execute_result"
    }
   ],
   "source": [
    "# Alternative manual download link: https://yadi.sk/d/_nGyU2IajjR9-w\n",
    "# !wget \"https://www.dropbox.com/s/99az9n1b57qkd9j/arxivData.json.tar.gz?dl=1\" -O arxivData.json.tar.gz\n",
    "# !tar -xvzf arxivData.json.tar.gz\n",
    "data = pd.read_json(\"./arxivData.json\")\n",
    "data.sample(n=5)"
   ]
  },
  {
   "cell_type": "code",
   "execution_count": 3,
   "metadata": {
    "cellId": "lbyqb5rx7j8jpo591r06ak"
   },
   "outputs": [
    {
     "data": {
      "text/plain": [
       "['Differential Contrastive Divergence ; This paper has been retracted.',\n",
       " 'What Does Artificial Life Tell Us About Death? ; Short philosophical essay',\n",
       " 'P=NP ; We claim to resolve the P=?NP problem via a formal argument for P=NP.']"
      ]
     },
     "execution_count": 3,
     "metadata": {},
     "output_type": "execute_result"
    }
   ],
   "source": [
    "# assemble lines: concatenate title and description\n",
    "lines = data.apply(lambda row: row['title'] + ' ; ' + row['summary'].replace(\"\\n\", ' '), axis=1).tolist()\n",
    "\n",
    "sorted(lines, key=len)[:3]"
   ]
  },
  {
   "cell_type": "markdown",
   "metadata": {
    "cellId": "7u97m5s8ekl5zd5a43a1yc"
   },
   "source": [
    "### Tokenization\n",
    "\n",
    "You know the dril. The data is messy. Go clean the data. Use WordPunctTokenizer or something.\n"
   ]
  },
  {
   "cell_type": "code",
   "execution_count": 4,
   "metadata": {
    "cellId": "u8rvfk719iek97t3rarwr"
   },
   "outputs": [],
   "source": [
    "# Task: convert lines (in-place) into strings of space-separated tokens. Import & use WordPunctTokenizer\n",
    "from nltk.tokenize import WordPunctTokenizer\n",
    "\n",
    "tokenizer = WordPunctTokenizer()\n",
    "lines = [' '.join(tokenizer.tokenize(line.lower())) for line in lines]"
   ]
  },
  {
   "cell_type": "code",
   "execution_count": 5,
   "metadata": {},
   "outputs": [
    {
     "data": {
      "text/plain": [
       "'dual recurrent attention units for visual question answering ; we propose an architecture for vqa which utilizes recurrent layers to generate visual and textual attention . the memory characteristic of the proposed recurrent attention units offers a rich joint embedding of visual and textual features and enables the model to reason relations between several parts of the image and question . our single model outperforms the first place winner on the vqa 1 . 0 dataset , performs within margin to the current state - of - the - art ensemble model . we also experiment with replacing attention mechanisms in other state - of - the - art models with our implementation and show increased accuracy . in both cases , our recurrent attention mechanism improves performance in tasks requiring sequential or relational reasoning on the vqa dataset .'"
      ]
     },
     "execution_count": 5,
     "metadata": {},
     "output_type": "execute_result"
    }
   ],
   "source": [
    "lines[0]"
   ]
  },
  {
   "cell_type": "code",
   "execution_count": 6,
   "metadata": {
    "cellId": "w88nddpp2k8edoeyyyjh0l"
   },
   "outputs": [],
   "source": [
    "assert sorted(lines, key=len)[0] == \\\n",
    "    'differential contrastive divergence ; this paper has been retracted .'\n",
    "assert sorted(lines, key=len)[2] == \\\n",
    "    'p = np ; we claim to resolve the p =? np problem via a formal argument for p = np .'"
   ]
  },
  {
   "cell_type": "markdown",
   "metadata": {
    "cellId": "qb6h3hxmr095egzv8rlzul"
   },
   "source": [
    "### N-Gram Language Model (1point)\n",
    "\n",
    "A language model is a probabilistic model that estimates text probability: the joint probability of all tokens $w_t$ in text $X$: $P(X) = P(w_1, \\dots, w_T)$.\n",
    "\n",
    "It can do so by following the chain rule:\n",
    "$$P(w_1, \\dots, w_T) = P(w_1)P(w_2 \\mid w_1)\\dots P(w_T \\mid w_1, \\dots, w_{T-1}).$$ \n",
    "\n",
    "The problem with such approach is that the final term $P(w_T \\mid w_1, \\dots, w_{T-1})$ depends on $n-1$ previous words. This probability is impractical to estimate for long texts, e.g. $T = 1000$.\n",
    "\n",
    "One popular approximation is to assume that next word only depends on a finite amount of previous words:\n",
    "\n",
    "$$P(w_t \\mid w_1, \\dots, w_{t - 1}) = P(w_t \\mid w_{t - n + 1}, \\dots, w_{t - 1})$$\n",
    "\n",
    "Such model is called __n-gram language model__ where n is a parameter. For example, in 3-gram language model, each word only depends on 2 previous words. \n",
    "\n",
    "$$\n",
    "    P(w_1, \\dots, w_n) = \\prod_t P(w_t \\mid w_{t - n + 1}, \\dots, w_{t - 1}).\n",
    "$$\n",
    "\n",
    "You can also sometimes see such approximation under the name of _n-th order markov assumption_."
   ]
  },
  {
   "cell_type": "markdown",
   "metadata": {
    "cellId": "u68wydbiioqlp5gl96mhd"
   },
   "source": [
    "The first stage to building such a model is counting all word occurences given N-1 previous words"
   ]
  },
  {
   "cell_type": "code",
   "execution_count": 7,
   "metadata": {
    "cellId": "og84gjipnumsakhiiu9ap"
   },
   "outputs": [],
   "source": [
    "from tqdm import tqdm\n",
    "from collections import defaultdict, Counter\n",
    "\n",
    "# special tokens: \n",
    "# - `UNK` represents absent tokens, \n",
    "# - `EOS` is a special token after the end of sequence\n",
    "\n",
    "UNK, EOS = \"_UNK_\", \"_EOS_\"\n",
    "\n",
    "def count_ngrams(lines, n):\n",
    "    \"\"\"\n",
    "    Count how many times each word occured after (n - 1) previous words\n",
    "    :param lines: an iterable of strings with space-separated tokens\n",
    "    :returns: a dictionary { tuple(prefix_tokens): {next_token_1: count_1, next_token_2: count_2}}\n",
    "\n",
    "    When building counts, please consider the following two edge cases:\n",
    "    - if prefix is shorter than (n - 1) tokens, it should be padded with UNK. For n=3,\n",
    "      empty prefix: \"\" -> (UNK, UNK)\n",
    "      short prefix: \"the\" -> (UNK, the)\n",
    "      long prefix: \"the new approach\" -> (new, approach)\n",
    "    - you should add a special token, EOS, at the end of each sequence\n",
    "      \"... with deep neural networks .\" -> (..., with, deep, neural, networks, ., EOS)\n",
    "      count the probability of this token just like all others.\n",
    "    \"\"\"\n",
    "    counts = defaultdict(Counter)\n",
    "    # counts[(word1, word2)][word3] = how many times word3 occured after (word1, word2)\n",
    "\n",
    "    for line in lines:\n",
    "        words = line.split()\n",
    "        words.append(EOS)\n",
    "        for i, word in enumerate(words):\n",
    "            if i < n - 1:\n",
    "                pads = [UNK] * (n - 1 - i)\n",
    "                context = pads + words[:i]\n",
    "            else:\n",
    "                context = words[i - n + 1:i]\n",
    "            counts[tuple(context)][word] += 1\n",
    "            \n",
    "    \n",
    "    return counts\n"
   ]
  },
  {
   "cell_type": "code",
   "execution_count": 8,
   "metadata": {},
   "outputs": [
    {
     "name": "stdout",
     "output_type": "stream",
     "text": [
      "['differential contrastive divergence ; this paper has been retracted .']\n"
     ]
    },
    {
     "data": {
      "text/plain": [
       "defaultdict(collections.Counter,\n",
       "            {('_UNK_', '_UNK_'): Counter({'differential': 1}),\n",
       "             ('_UNK_', 'differential'): Counter({'contrastive': 1}),\n",
       "             ('differential', 'contrastive'): Counter({'divergence': 1}),\n",
       "             ('contrastive', 'divergence'): Counter({';': 1}),\n",
       "             ('divergence', ';'): Counter({'this': 1}),\n",
       "             (';', 'this'): Counter({'paper': 1}),\n",
       "             ('this', 'paper'): Counter({'has': 1}),\n",
       "             ('paper', 'has'): Counter({'been': 1}),\n",
       "             ('has', 'been'): Counter({'retracted': 1}),\n",
       "             ('been', 'retracted'): Counter({'.': 1}),\n",
       "             ('retracted', '.'): Counter({'_EOS_': 1})})"
      ]
     },
     "execution_count": 8,
     "metadata": {},
     "output_type": "execute_result"
    }
   ],
   "source": [
    "dummy_lines = sorted(lines, key=len)[:1]\n",
    "dummy_counts = count_ngrams(dummy_lines, n=3)\n",
    "print(dummy_lines)\n",
    "dummy_counts"
   ]
  },
  {
   "cell_type": "code",
   "execution_count": 9,
   "metadata": {
    "cellId": "xyf2he6lak9mmqarl3nck"
   },
   "outputs": [],
   "source": [
    "# let's test it\n",
    "dummy_lines = sorted(lines, key=len)[:100]\n",
    "dummy_counts = count_ngrams(dummy_lines, n=3)\n",
    "assert set(map(len, dummy_counts.keys())) == {2}, \"please only count {n-1}-grams\"\n",
    "assert len(dummy_counts[('_UNK_', '_UNK_')]) == 78\n",
    "assert dummy_counts['_UNK_', 'a']['note'] == 3\n",
    "assert dummy_counts['p', '=']['np'] == 2\n",
    "assert dummy_counts['author', '.']['_EOS_'] == 1"
   ]
  },
  {
   "cell_type": "markdown",
   "metadata": {
    "cellId": "4j620npeqvj0k8ak8xqx8xk"
   },
   "source": [
    "Once we can count N-grams, we can build a probabilistic language model.\n",
    "The simplest way to compute probabilities is in proporiton to counts:\n",
    "\n",
    "$$ P(w_t | prefix) = { Count(prefix, w_t) \\over \\sum_{\\hat w} Count(prefix, \\hat w) } $$"
   ]
  },
  {
   "cell_type": "code",
   "execution_count": 10,
   "metadata": {
    "cellId": "c7cm76wmzlaa12bctznzei"
   },
   "outputs": [],
   "source": [
    "class NGramLanguageModel:    \n",
    "    def __init__(self, lines, n):\n",
    "        \"\"\" \n",
    "        Train a simple count-based language model: \n",
    "        compute probabilities P(w_t | prefix) given ngram counts\n",
    "        \n",
    "        :param n: computes probability of next token given (n - 1) previous words\n",
    "        :param lines: an iterable of strings with space-separated tokens\n",
    "        \"\"\"\n",
    "        assert n >= 1\n",
    "        self.n = n\n",
    "    \n",
    "        counts = count_ngrams(lines, self.n)\n",
    "        \n",
    "        # compute token proabilities given counts\n",
    "        self.probs = defaultdict(Counter)\n",
    "        # probs[(word1, word2)][word3] = P(word3 | word1, word2)\n",
    "        \n",
    "        # populate self.probs with actual probabilities\n",
    "        for prefix, token_counter in counts.items():\n",
    "            count_sum = sum(token_counter.values())\n",
    "            for token, token_count in token_counter.items():\n",
    "                self.probs[prefix][token] = token_count / count_sum\n",
    "            \n",
    "    def get_possible_next_tokens(self, prefix):\n",
    "        \"\"\"\n",
    "        :param prefix: string with space-separated prefix tokens\n",
    "        :returns: a dictionary {token : it's probability} for all tokens with positive probabilities\n",
    "        \"\"\"\n",
    "        prefix = prefix.split()\n",
    "        prefix = prefix[max(0, len(prefix) - self.n + 1):]\n",
    "        prefix = [ UNK ] * (self.n - 1 - len(prefix)) + prefix\n",
    "        return self.probs[tuple(prefix)]\n",
    "    \n",
    "    def get_next_token_prob(self, prefix, next_token):\n",
    "        \"\"\"\n",
    "        :param prefix: string with space-separated prefix tokens\n",
    "        :param next_token: the next token to predict probability for\n",
    "        :returns: P(next_token|prefix) a single number, 0 <= P <= 1\n",
    "        \"\"\"\n",
    "        return self.get_possible_next_tokens(prefix).get(next_token, 0)"
   ]
  },
  {
   "cell_type": "markdown",
   "metadata": {
    "cellId": "0ftnn4nmuzrup6c0vvhb8q"
   },
   "source": [
    "Let's test it!"
   ]
  },
  {
   "cell_type": "code",
   "execution_count": 11,
   "metadata": {
    "cellId": "a7zajcnvhqupvcrmacvkur"
   },
   "outputs": [],
   "source": [
    "dummy_lm = NGramLanguageModel(dummy_lines, n=3)\n",
    "\n",
    "p_initial = dummy_lm.get_possible_next_tokens('') # '' -> ['_UNK_', '_UNK_']\n",
    "assert np.allclose(p_initial['learning'], 0.02)\n",
    "assert np.allclose(p_initial['a'], 0.13)\n",
    "assert np.allclose(p_initial.get('meow', 0), 0)\n",
    "assert np.allclose(sum(p_initial.values()), 1)\n",
    "\n",
    "p_a = dummy_lm.get_possible_next_tokens('a') # '' -> ['_UNK_', 'a']\n",
    "assert np.allclose(p_a['machine'], 0.15384615)\n",
    "assert np.allclose(p_a['note'], 0.23076923)\n",
    "assert np.allclose(p_a.get('the', 0), 0)\n",
    "assert np.allclose(sum(p_a.values()), 1)\n",
    "\n",
    "assert np.allclose(dummy_lm.get_possible_next_tokens('a note')['on'], 1)\n",
    "assert dummy_lm.get_possible_next_tokens('a machine') == \\\n",
    "    dummy_lm.get_possible_next_tokens(\"there have always been ghosts in a machine\"), \\\n",
    "    \"your 3-gram model should only depend on 2 previous words\""
   ]
  },
  {
   "cell_type": "markdown",
   "metadata": {
    "cellId": "oh8r9a41kuk4r51wra9"
   },
   "source": [
    "Now that you've got a working n-gram language model, let's see what sequences it can generate. But first, let's train it on the whole dataset."
   ]
  },
  {
   "cell_type": "code",
   "execution_count": 12,
   "metadata": {
    "cellId": "f17xoejjppmooo2nopw4xo"
   },
   "outputs": [],
   "source": [
    "lm = NGramLanguageModel(lines, n=3)"
   ]
  },
  {
   "cell_type": "code",
   "execution_count": 22,
   "metadata": {},
   "outputs": [
    {
     "data": {
      "text/plain": [
       "Counter({'learning': 0.19873417721518988,\n",
       "         'neural': 0.17215189873417722,\n",
       "         'convolutional': 0.13227848101265824,\n",
       "         'network': 0.07911392405063292,\n",
       "         '-': 0.02721518987341772,\n",
       "         'architecture': 0.025949367088607594,\n",
       "         'model': 0.02088607594936709,\n",
       "         'reinforcement': 0.019620253164556962,\n",
       "         'recurrent': 0.0189873417721519,\n",
       "         'generative': 0.018354430379746836,\n",
       "         'cnn': 0.015189873417721518,\n",
       "         'residual': 0.01139240506329114,\n",
       "         'q': 0.00949367088607595,\n",
       "         'belief': 0.008227848101265823,\n",
       "         'autoencoder': 0.008227848101265823,\n",
       "         ',': 0.008227848101265823,\n",
       "         'multi': 0.006962025316455696,\n",
       "         'fully': 0.00569620253164557,\n",
       "         'semantic': 0.005063291139240506,\n",
       "         'feature': 0.005063291139240506,\n",
       "         'and': 0.004430379746835443,\n",
       "         'encoder': 0.004430379746835443,\n",
       "         'structured': 0.004430379746835443,\n",
       "         'representation': 0.004430379746835443,\n",
       "         'rnn': 0.0037974683544303796,\n",
       "         'cascade': 0.0037974683544303796,\n",
       "         'convolution': 0.0037974683544303796,\n",
       "         'understanding': 0.0031645569620253164,\n",
       "         'analysis': 0.0031645569620253164,\n",
       "         'lstm': 0.0031645569620253164,\n",
       "         'feed': 0.0031645569620253164,\n",
       "         'linear': 0.0031645569620253164,\n",
       "         'siamese': 0.0031645569620253164,\n",
       "         'image': 0.0031645569620253164,\n",
       "         'net': 0.002531645569620253,\n",
       "         'dual': 0.002531645569620253,\n",
       "         'memory': 0.002531645569620253,\n",
       "         'rl': 0.002531645569620253,\n",
       "         'artificial': 0.002531645569620253,\n",
       "         '(': 0.002531645569620253,\n",
       "         'bidirectional': 0.002531645569620253,\n",
       "         'metric': 0.0018987341772151898,\n",
       "         'multitask': 0.0018987341772151898,\n",
       "         'pyramid': 0.0018987341772151898,\n",
       "         'regression': 0.0018987341772151898,\n",
       "         '3d': 0.0018987341772151898,\n",
       "         'spatial': 0.0018987341772151898,\n",
       "         'similarity': 0.0018987341772151898,\n",
       "         'embedding': 0.0018987341772151898,\n",
       "         'fusion': 0.0018987341772151898,\n",
       "         'mixture': 0.0018987341772151898,\n",
       "         'generator': 0.0012658227848101266,\n",
       "         'dynamical': 0.0012658227848101266,\n",
       "         'look': 0.0012658227848101266,\n",
       "         'extension': 0.0012658227848101266,\n",
       "         'classifier': 0.0012658227848101266,\n",
       "         'bottleneck': 0.0012658227848101266,\n",
       "         'boltzmann': 0.0012658227848101266,\n",
       "         'prediction': 0.0012658227848101266,\n",
       "         'hierarchical': 0.0012658227848101266,\n",
       "         'multimodal': 0.0012658227848101266,\n",
       "         'learner': 0.0012658227848101266,\n",
       "         'directed': 0.0012658227848101266,\n",
       "         'transform': 0.0012658227848101266,\n",
       "         'layered': 0.0012658227848101266,\n",
       "         'feedforward': 0.0012658227848101266,\n",
       "         'multiagent': 0.0012658227848101266,\n",
       "         'stochastic': 0.0012658227848101266,\n",
       "         'latent': 0.0012658227848101266,\n",
       "         'densely': 0.0012658227848101266,\n",
       "         'insight': 0.0012658227848101266,\n",
       "         'study': 0.0012658227848101266,\n",
       "         'policy': 0.0012658227848101266,\n",
       "         'spatio': 0.0012658227848101266,\n",
       "         'ranking': 0.0012658227848101266,\n",
       "         'scattering': 0.0012658227848101266,\n",
       "         'part': 0.0012658227848101266,\n",
       "         'association': 0.0012658227848101266,\n",
       "         'self': 0.0012658227848101266,\n",
       "         'active': 0.0012658227848101266,\n",
       "         'interactive': 0.0012658227848101266,\n",
       "         'end': 0.0012658227848101266,\n",
       "         'summarization': 0.0012658227848101266,\n",
       "         'unsupervised': 0.0012658227848101266,\n",
       "         'attention': 0.0012658227848101266,\n",
       "         'multilayer': 0.0006329113924050633,\n",
       "         'denoising': 0.0006329113924050633,\n",
       "         'stack': 0.0006329113924050633,\n",
       "         'or': 0.0006329113924050633,\n",
       "         'invariant': 0.0006329113924050633,\n",
       "         'boosting': 0.0006329113924050633,\n",
       "         're': 0.0006329113924050633,\n",
       "         'sea': 0.0006329113924050633,\n",
       "         'regressor': 0.0006329113924050633,\n",
       "         'variation': 0.0006329113924050633,\n",
       "         'value': 0.0006329113924050633,\n",
       "         'collaboration': 0.0006329113924050633,\n",
       "         'matrix': 0.0006329113924050633,\n",
       "         'skill': 0.0006329113924050633,\n",
       "         'deterministic': 0.0006329113924050633,\n",
       "         'experimental': 0.0006329113924050633,\n",
       "         'semi': 0.0006329113924050633,\n",
       "         'oja': 0.0006329113924050633,\n",
       "         'hash': 0.0006329113924050633,\n",
       "         'gaussian': 0.0006329113924050633,\n",
       "         'nearest': 0.0006329113924050633,\n",
       "         'knowledge': 0.0006329113924050633,\n",
       "         'ensemble': 0.0006329113924050633,\n",
       "         'restricted': 0.0006329113924050633,\n",
       "         'all': 0.0006329113924050633,\n",
       "         'convac': 0.0006329113924050633,\n",
       "         'transfer': 0.0006329113924050633,\n",
       "         '$\\\\': 0.0006329113924050633,\n",
       "         'adversarial': 0.0006329113924050633,\n",
       "         'joint': 0.0006329113924050633,\n",
       "         'interpretation': 0.0006329113924050633,\n",
       "         'conditioning': 0.0006329113924050633,\n",
       "         'cocktail': 0.0006329113924050633,\n",
       "         'dynamic': 0.0006329113924050633,\n",
       "         'autoregressive': 0.0006329113924050633,\n",
       "         'bag': 0.0006329113924050633,\n",
       "         'hierarchy': 0.0006329113924050633,\n",
       "         'implicit': 0.0006329113924050633,\n",
       "         'structure': 0.0006329113924050633,\n",
       "         'pipelined': 0.0006329113924050633,\n",
       "         'basis': 0.0006329113924050633,\n",
       "         'predictive': 0.0006329113924050633,\n",
       "         'mathematical': 0.0006329113924050633,\n",
       "         'spiking': 0.0006329113924050633,\n",
       "         'machine': 0.0006329113924050633,\n",
       "         'orthography': 0.0006329113924050633,\n",
       "         'bi': 0.0006329113924050633,\n",
       "         'reinforced': 0.0006329113924050633,\n",
       "         'investigation': 0.0006329113924050633,\n",
       "         'matching': 0.0006329113924050633,\n",
       "         'stacking': 0.0006329113924050633,\n",
       "         'task': 0.0006329113924050633,\n",
       "         'connection': 0.0006329113924050633,\n",
       "         'networks': 0.0006329113924050633,\n",
       "         'conditional': 0.0006329113924050633,\n",
       "         'texture': 0.0006329113924050633,\n",
       "         'adversial': 0.0006329113924050633,\n",
       "         'nonlinear': 0.0006329113924050633,\n",
       "         'graph': 0.0006329113924050633,\n",
       "         'version': 0.0006329113924050633,\n",
       "         'hashing': 0.0006329113924050633,\n",
       "         'leaning': 0.0006329113924050633,\n",
       "         'voxelwise': 0.0006329113924050633,\n",
       "         'face': 0.0006329113924050633,\n",
       "         'depth': 0.0006329113924050633,\n",
       "         'snn': 0.0006329113924050633,\n",
       "         'multichannel': 0.0006329113924050633,\n",
       "         'classification': 0.0006329113924050633,\n",
       "         'cuboid': 0.0006329113924050633,\n",
       "         'discriminatively': 0.0006329113924050633,\n",
       "         'week': 0.0006329113924050633,\n",
       "         'heterogeneous': 0.0006329113924050633,\n",
       "         'hybrid': 0.0006329113924050633,\n",
       "         'greedy': 0.0006329113924050633,\n",
       "         'direct': 0.0006329113924050633,\n",
       "         'domain': 0.0006329113924050633,\n",
       "         'instance': 0.0006329113924050633,\n",
       "         'quadruplet': 0.0006329113924050633,\n",
       "         'style': 0.0006329113924050633,\n",
       "         'cascaded': 0.0006329113924050633,\n",
       "         'supervision': 0.0006329113924050633,\n",
       "         'level': 0.0006329113924050633,\n",
       "         'supervised': 0.0006329113924050633,\n",
       "         'mutual': 0.0006329113924050633,\n",
       "         'discriminative': 0.0006329113924050633,\n",
       "         'binary': 0.0006329113924050633,\n",
       "         '3': 0.0006329113924050633,\n",
       "         'biqa': 0.0006329113924050633,\n",
       "         'framework': 0.0006329113924050633,\n",
       "         'visual': 0.0006329113924050633,\n",
       "         'ordinal': 0.0006329113924050633,\n",
       "         'pose': 0.0006329113924050633,\n",
       "         'process': 0.0006329113924050633,\n",
       "         'object': 0.0006329113924050633,\n",
       "         'vqa': 0.0006329113924050633,\n",
       "         'deconvolution': 0.0006329113924050633,\n",
       "         'distance': 0.0006329113924050633,\n",
       "         'adaptive': 0.0006329113924050633,\n",
       "         'method': 0.0006329113924050633,\n",
       "         'attentional': 0.0006329113924050633,\n",
       "         'coupled': 0.0006329113924050633,\n",
       "         'long': 0.0006329113924050633,\n",
       "         'anomaly': 0.0006329113924050633,\n",
       "         'purely': 0.0006329113924050633,\n",
       "         'auto': 0.0006329113924050633,\n",
       "         'transductive': 0.0006329113924050633,\n",
       "         'stacked': 0.0006329113924050633,\n",
       "         'relevance': 0.0006329113924050633,\n",
       "         'modernization': 0.0006329113924050633,\n",
       "         'sequence': 0.0006329113924050633,\n",
       "         'non': 0.0006329113924050633,\n",
       "         'methodological': 0.0006329113924050633,\n",
       "         'imprint': 0.0006329113924050633,\n",
       "         'no': 0.0006329113924050633})"
      ]
     },
     "execution_count": 22,
     "metadata": {},
     "output_type": "execute_result"
    }
   ],
   "source": [
    "d = lm.get_possible_next_tokens(\"the gnn is a deep\")\n",
    "d"
   ]
  },
  {
   "cell_type": "code",
   "execution_count": 81,
   "metadata": {},
   "outputs": [
    {
     "data": {
      "text/plain": [
       "'learning'"
      ]
     },
     "execution_count": 81,
     "metadata": {},
     "output_type": "execute_result"
    }
   ],
   "source": [
    "cum_sum = np.cumsum(np.fromiter(d.values(), dtype=float))\n",
    "prob = np.random.random(1)\n",
    "mask_lower = cum_sum < prob\n",
    "list(d.keys())[mask_lower.argmin()]"
   ]
  },
  {
   "cell_type": "code",
   "execution_count": 131,
   "metadata": {},
   "outputs": [
    {
     "name": "stdout",
     "output_type": "stream",
     "text": [
      "Counter({'been': 0.9083969465648855, 'not': 0.03816793893129771, 'only': 0.015267175572519083, 'also': 0.015267175572519083, 'lately': 0.007633587786259542, 'very': 0.007633587786259542, 'occurred': 0.007633587786259542})\n",
      "[0.90839695 0.94656489 0.96183206 0.97709924 0.98473282 0.99236641\n",
      " 1.        ]\n",
      "[ True  True  True  True  True  True  True]\n",
      "0\n",
      "been\n"
     ]
    }
   ],
   "source": [
    "tokens_with_probs = lm.get_possible_next_tokens('there have')\n",
    "print(tokens_with_probs)\n",
    "temperature = 1\n",
    "\n",
    "tokens = list(tokens_with_probs.keys())\n",
    "probs = np.fromiter(tokens_with_probs.values(), dtype=float) ** (1 / temperature)\n",
    "prob = np.random.random(1)\n",
    "cum_sum = np.cumsum(probs)\n",
    "print(cum_sum)\n",
    "mask_lower = cum_sum > prob\n",
    "print(mask_lower)\n",
    "index = mask_lower.argmax()\n",
    "print(index)\n",
    "print(tokens[index])"
   ]
  },
  {
   "cell_type": "markdown",
   "metadata": {
    "cellId": "2kd9glwnkr470qc4bt7f1e"
   },
   "source": [
    "The process of generating sequences is... well, it's sequential. You maintain a list of tokens and iteratively add next token by sampling with probabilities.\n",
    "\n",
    "$ X = [] $\n",
    "\n",
    "__forever:__\n",
    "* $w_{next} \\sim P(w_{next} | X)$\n",
    "* $X = concat(X, w_{next})$\n",
    "\n",
    "\n",
    "Instead of sampling with probabilities, one can also try always taking most likely token, sampling among top-K most likely tokens or sampling with temperature. In the latter case (temperature), one samples from\n",
    "\n",
    "$$w_{next} \\sim {P(w_{next} | X) ^ {1 / \\tau} \\over \\sum_{\\hat w} P(\\hat w | X) ^ {1 / \\tau}}$$\n",
    "\n",
    "Where $\\tau > 0$ is model temperature. If $\\tau << 1$, more likely tokens will be sampled with even higher probability while less likely tokens will vanish."
   ]
  },
  {
   "cell_type": "code",
   "execution_count": 62,
   "metadata": {},
   "outputs": [],
   "source": [
    "np.random.random?"
   ]
  },
  {
   "cell_type": "code",
   "execution_count": 183,
   "metadata": {
    "cellId": "sgbatlm9vzb4z889fho7"
   },
   "outputs": [],
   "source": [
    "def get_next_token(lm, prefix, temperature=1.0):\n",
    "    \"\"\"\n",
    "    return next token after prefix;\n",
    "    :param temperature: samples proportionally to lm probabilities ^ (1 / temperature)\n",
    "        if temperature == 0, always takes most likely token. Break ties arbitrarily.\n",
    "    \"\"\"\n",
    "    tokens_with_probs = lm.get_possible_next_tokens(prefix)\n",
    "    tokens = list(tokens_with_probs.keys())\n",
    "    probs = np.fromiter(tokens_with_probs.values(), dtype=float)\n",
    "    if temperature == 0:\n",
    "        return tokens[np.argmax(probs)]\n",
    "    temperatured_probs = probs ** (1 / temperature)\n",
    "    new_probs = temperatured_probs / np.sum(temperatured_probs)\n",
    "    prob = np.random.random(1)\n",
    "    cum_sum = np.cumsum(new_probs)\n",
    "    mask_lower = cum_sum > prob\n",
    "    index = mask_lower.argmax()\n",
    "    return tokens[index]"
   ]
  },
  {
   "cell_type": "code",
   "execution_count": 184,
   "metadata": {},
   "outputs": [
    {
     "data": {
      "text/plain": [
       "'learning'"
      ]
     },
     "execution_count": 184,
     "metadata": {},
     "output_type": "execute_result"
    }
   ],
   "source": [
    "get_next_token(lm, 'deep', temperature=0.5)"
   ]
  },
  {
   "cell_type": "code",
   "execution_count": 187,
   "metadata": {
    "cellId": "98l40131wjtd5xbdm5b2nr"
   },
   "outputs": [
    {
     "name": "stdout",
     "output_type": "stream",
     "text": [
      "Looks nice!\n"
     ]
    }
   ],
   "source": [
    "from collections import Counter\n",
    "test_freqs = Counter([get_next_token(lm, 'there have') for _ in range(10000)])\n",
    "assert 250 < test_freqs['not'] < 450\n",
    "assert 8500 < test_freqs['been'] < 9500\n",
    "assert 1 < test_freqs['lately'] < 200\n",
    "\n",
    "test_freqs = Counter([get_next_token(lm, 'deep', temperature=1.0) for _ in range(10000)])\n",
    "assert 1500 < test_freqs['learning'] < 3000\n",
    "test_freqs = Counter([get_next_token(lm, 'deep', temperature=0.5) for _ in range(10000)])\n",
    "assert 8000 < test_freqs['learning'] < 9000\n",
    "test_freqs = Counter([get_next_token(lm, 'deep', temperature=0.0) for _ in range(10000)])\n",
    "assert test_freqs['learning'] == 10000\n",
    "\n",
    "print(\"Looks nice!\")"
   ]
  },
  {
   "cell_type": "markdown",
   "metadata": {
    "cellId": "ux4n8iq523n4s3ftrelhxj"
   },
   "source": [
    "Let's have fun with this model"
   ]
  },
  {
   "cell_type": "code",
   "execution_count": 188,
   "metadata": {
    "cellId": "1nnnycga61rijt6nd8zai"
   },
   "outputs": [
    {
     "name": "stdout",
     "output_type": "stream",
     "text": [
      "artificial generation of wrappers for sources , just like cqm allows for efficient information - theoretic ranking for relative pose estimate describes the results of numerical examples . while traditional linkage analysis and implementation decisions ; more than 1200 hours of swb may be relevant , and the analogies for thermodynamical indicators is better able to label , one of the functional connectome is a modular representation of spider web to determine the number of training images . _EOS_\n"
     ]
    }
   ],
   "source": [
    "prefix = 'artificial' # <- your ideas :)\n",
    "\n",
    "for i in range(100):\n",
    "    prefix += ' ' + get_next_token(lm, prefix)\n",
    "    if prefix.endswith(EOS) or len(lm.get_possible_next_tokens(prefix)) == 0:\n",
    "        break\n",
    "        \n",
    "print(prefix)"
   ]
  },
  {
   "cell_type": "code",
   "execution_count": 189,
   "metadata": {
    "cellId": "pxyjsv3b7r8thdfxlgitl"
   },
   "outputs": [
    {
     "name": "stdout",
     "output_type": "stream",
     "text": [
      "bridging the gap between the two - phase approach , we propose a novel approach to the best of our knowledge , this paper , we propose a novel and efficient method for computing the optimal solution . however , the proposed approach , which is a natural language processing ( nlp ). the most promising ones and reveal that the proposed method is a key ingredient of our model is a fundamental problem in the field of view , we consider the problem of learning the parameters of a larger number of parameters . we show that the proposed method is\n"
     ]
    }
   ],
   "source": [
    "prefix = 'bridging the' # <- more of your ideas\n",
    "\n",
    "for i in range(100):\n",
    "    prefix += ' ' + get_next_token(lm, prefix, temperature=0.5)\n",
    "    if prefix.endswith(EOS) or len(lm.get_possible_next_tokens(prefix)) == 0:\n",
    "        break\n",
    "        \n",
    "print(prefix)"
   ]
  },
  {
   "cell_type": "markdown",
   "metadata": {
    "cellId": "2n90bscmzfko0qnctp7ysc"
   },
   "source": [
    "__More in the homework:__ nucleus sampling, top-k sampling, beam search(not for the faint of heart)."
   ]
  },
  {
   "cell_type": "markdown",
   "metadata": {
    "cellId": "3gdmey7g8at5n5c5x4gayh"
   },
   "source": [
    "### Evaluating language models: perplexity (1point)\n",
    "\n",
    "Perplexity is a measure of how well your model approximates the true probability distribution behind the data. __Smaller perplexity = better model__.\n",
    "\n",
    "To compute perplexity on one sentence, use:\n",
    "$$\n",
    "    {\\mathbb{P}}(w_1 \\dots w_N) = P(w_1, \\dots, w_N)^{-\\frac1N} = \\left( \\prod_t P(w_t \\mid w_{t - n}, \\dots, w_{t - 1})\\right)^{-\\frac1N},\n",
    "$$\n",
    "\n",
    "\n",
    "On the corpora level, perplexity is a product of probabilities of all tokens in all sentences to the power of $1/N$, where $N$ is __total length (in tokens) of all sentences__ in corpora.\n",
    "\n",
    "This number can quickly get too small for float32/float64 precision, so we recommend you to first compute log-perplexity (from log-probabilities) and then take the exponent."
   ]
  },
  {
   "cell_type": "code",
   "execution_count": null,
   "metadata": {
    "cellId": "5hp010xyzzb4vqewo1bhny"
   },
   "outputs": [],
   "source": [
    "def perplexity(lm, lines, min_logprob=np.log(10 ** -50.)):\n",
    "    \"\"\"\n",
    "    :param lines: a list of strings with space-separated tokens\n",
    "    :param min_logprob: if log(P(w | ...)) is smaller than min_logprop, set it equal to min_logrob\n",
    "    :returns: corpora-level perplexity - a single scalar number from the formula above\n",
    "    \n",
    "    Note: do not forget to compute P(w_first | empty) and P(eos | full_sequence)\n",
    "    \n",
    "    PLEASE USE lm.get_next_token_prob and NOT lm.get_possible_next_tokens\n",
    "    \"\"\"\n",
    "    <YOUR CODE>\n",
    "    \n",
    "    return <...>"
   ]
  },
  {
   "cell_type": "code",
   "execution_count": null,
   "metadata": {
    "cellId": "8b689bobhkey04x7pabupj"
   },
   "outputs": [],
   "source": [
    "lm1 = NGramLanguageModel(dummy_lines, n=1)\n",
    "lm3 = NGramLanguageModel(dummy_lines, n=3)\n",
    "lm10 = NGramLanguageModel(dummy_lines, n=10)\n",
    "\n",
    "ppx1 = perplexity(lm1, dummy_lines)\n",
    "ppx3 = perplexity(lm3, dummy_lines)\n",
    "ppx10 = perplexity(lm10, dummy_lines)\n",
    "ppx_missing = perplexity(lm3, ['the jabberwock , with eyes of flame , '])  # thanks, L. Carrol\n",
    "\n",
    "print(\"Perplexities: ppx1=%.3f ppx3=%.3f ppx10=%.3f\" % (ppx1, ppx3, ppx10))\n",
    "\n",
    "assert all(0 < ppx < 500 for ppx in (ppx1, ppx3, ppx10)), \"perplexity should be non-negative and reasonably small\"\n",
    "assert ppx1 > ppx3 > ppx10, \"higher N models should overfit and \"\n",
    "assert np.isfinite(ppx_missing) and ppx_missing > 10 ** 6, \"missing words should have large but finite perplexity. \" \\\n",
    "    \" Make sure you use min_logprob right\"\n",
    "assert np.allclose([ppx1, ppx3, ppx10], (318.2132342216302, 1.5199996213739575, 1.1838145037901249))"
   ]
  },
  {
   "cell_type": "markdown",
   "metadata": {
    "cellId": "ypc4lks4vs1li908fqi8"
   },
   "source": [
    "Now let's measure the actual perplexity: we'll split the data into train and test and score model on test data only."
   ]
  },
  {
   "cell_type": "code",
   "execution_count": null,
   "metadata": {
    "cellId": "tjnehsem2lmijkg2lto4w"
   },
   "outputs": [],
   "source": [
    "from sklearn.model_selection import train_test_split\n",
    "train_lines, test_lines = train_test_split(lines, test_size=0.25, random_state=42)\n",
    "\n",
    "for n in (1, 2, 3):\n",
    "    lm = NGramLanguageModel(n=n, lines=train_lines)\n",
    "    ppx = perplexity(lm, test_lines)\n",
    "    print(\"N = %i, Perplexity = %.5f\" % (n, ppx))\n"
   ]
  },
  {
   "cell_type": "code",
   "execution_count": null,
   "metadata": {
    "cellId": "38nfbfkpzgfxik8kccyt1l"
   },
   "outputs": [],
   "source": [
    "# whoops, it just blew up :)"
   ]
  },
  {
   "cell_type": "markdown",
   "metadata": {
    "cellId": "oopn2o57wxm9vbxzycytce"
   },
   "source": [
    "### LM Smoothing\n",
    "\n",
    "The problem with our simple language model is that whenever it encounters an n-gram it has never seen before, it assigns it with the probabilitiy of 0. Every time this happens, perplexity explodes.\n",
    "\n",
    "To battle this issue, there's a technique called __smoothing__. The core idea is to modify counts in a way that prevents probabilities from getting too low. The simplest algorithm here is Additive smoothing (aka [Lapace smoothing](https://en.wikipedia.org/wiki/Additive_smoothing)):\n",
    "\n",
    "$$ P(w_t | prefix) = { Count(prefix, w_t) + \\delta \\over \\sum_{\\hat w} (Count(prefix, \\hat w) + \\delta) } $$\n",
    "\n",
    "If counts for a given prefix are low, additive smoothing will adjust probabilities to a more uniform distribution. Not that the summation in the denominator goes over _all words in the vocabulary_.\n",
    "\n",
    "Here's an example code we've implemented for you:"
   ]
  },
  {
   "cell_type": "code",
   "execution_count": null,
   "metadata": {
    "cellId": "ioh26rlov6g8l2ssj1c8pm"
   },
   "outputs": [],
   "source": [
    "class LaplaceLanguageModel(NGramLanguageModel): \n",
    "    \"\"\" this code is an example, no need to change anything \"\"\"\n",
    "    def __init__(self, lines, n, delta=1.0):\n",
    "        self.n = n\n",
    "        counts = count_ngrams(lines, self.n)\n",
    "        self.vocab = set(token for token_counts in counts.values() for token in token_counts)\n",
    "        self.probs = defaultdict(Counter)\n",
    "\n",
    "        for prefix in counts:\n",
    "            token_counts = counts[prefix]\n",
    "            total_count = sum(token_counts.values()) + delta * len(self.vocab)\n",
    "            self.probs[prefix] = {token: (token_counts[token] + delta) / total_count\n",
    "                                          for token in token_counts}\n",
    "    def get_possible_next_tokens(self, prefix):\n",
    "        token_probs = super().get_possible_next_tokens(prefix)\n",
    "        missing_prob_total = 1.0 - sum(token_probs.values())\n",
    "        missing_prob = missing_prob_total / max(1, len(self.vocab) - len(token_probs))\n",
    "        return {token: token_probs.get(token, missing_prob) for token in self.vocab}\n",
    "    \n",
    "    def get_next_token_prob(self, prefix, next_token):\n",
    "        token_probs = super().get_possible_next_tokens(prefix)\n",
    "        if next_token in token_probs:\n",
    "            return token_probs[next_token]\n",
    "        else:\n",
    "            missing_prob_total = 1.0 - sum(token_probs.values())\n",
    "            missing_prob_total = max(0, missing_prob_total) # prevent rounding errors\n",
    "            return missing_prob_total / max(1, len(self.vocab) - len(token_probs))\n",
    "        "
   ]
  },
  {
   "cell_type": "markdown",
   "metadata": {
    "cellId": "90vsann3920ie05r2blbmi",
    "execution_id": "3868303d-0bb9-42c6-a9a8-dcf485c8220c"
   },
   "source": [
    "**Disclaimer**: the implementation above assumes all words unknown within a given context to be equally likely, *as well as the words outside of vocabulary*. Therefore, its' perplexity will be lower than it should when encountering such words. Therefore, comparing it with a model with fewer unknown words will not be fair. When implementing your own smoothing, you may handle this by adding a virtual `UNK` token of non-zero probability. Technically, this will result in a model where probabilities do not add up to $1$, but it is close enough for a practice excercise."
   ]
  },
  {
   "cell_type": "code",
   "execution_count": null,
   "metadata": {
    "cellId": "3xvxkdxcmfqucruyt66mdc"
   },
   "outputs": [],
   "source": [
    "#test that it's a valid probability model\n",
    "for n in (1, 2, 3):\n",
    "    dummy_lm = LaplaceLanguageModel(dummy_lines, n=n)\n",
    "    assert np.allclose(sum([dummy_lm.get_next_token_prob('a', w_i) for w_i in dummy_lm.vocab]), 1), \"I told you not to break anything! :)\""
   ]
  },
  {
   "cell_type": "code",
   "execution_count": null,
   "metadata": {
    "cellId": "j6zqa50koitjjri9ipd8ec"
   },
   "outputs": [],
   "source": [
    "for n in (1, 2, 3):\n",
    "    lm = LaplaceLanguageModel(train_lines, n=n, delta=0.1)\n",
    "    ppx = perplexity(lm, test_lines)\n",
    "    print(\"N = %i, Perplexity = %.5f\" % (n, ppx))"
   ]
  },
  {
   "cell_type": "code",
   "execution_count": null,
   "metadata": {
    "cellId": "pjuqt30jcerwbz1ym9zv1"
   },
   "outputs": [],
   "source": [
    "# optional: try to sample tokens from such a model"
   ]
  },
  {
   "cell_type": "markdown",
   "metadata": {
    "cellId": "3b8s1y9uls4fosu3yp28gg"
   },
   "source": [
    "### Kneser-Ney smoothing (2 points)\n",
    "\n",
    "Additive smoothing is simple, reasonably good but definitely not a State of The Art algorithm.\n",
    "\n",
    "\n",
    "Your final task in this notebook is to implement [Kneser-Ney](https://en.wikipedia.org/wiki/Kneser%E2%80%93Ney_smoothing) smoothing.\n",
    "\n",
    "It can be computed recurrently, for n>1:\n",
    "\n",
    "$$P_{kn}(w_t | prefix_{n-1}) = { \\max(0, Count(prefix_{n-1}, w_t) - \\delta) \\over \\sum_{\\hat w} Count(prefix_{n-1}, \\hat w)} + \\lambda_{prefix_{n-1}} \\cdot P_{kn}(w_t | prefix_{n-2})$$\n",
    "\n",
    "where\n",
    "- $prefix_{n-1}$ is a tuple of {n-1} previous tokens\n",
    "- $lambda_{prefix_{n-1}}$ is a normalization constant chosen so that probabilities add up to 1\n",
    "- Unigram $P_{kn}(w_t | prefix_{n-2})$ corresponds to Kneser Ney smoothing for {N-1}-gram language model.\n",
    "- Unigram $P_{kn}(w_t)$ is a special case: how likely it is to see x_t in an unfamiliar context\n",
    "\n",
    "See lecture slides or wiki for more detailed formulae.\n",
    "\n",
    "__Your task__ is to\n",
    "- implement `KneserNeyLanguageModel` class,\n",
    "- test it on 1-3 gram language models\n",
    "- find optimal (within reason) smoothing delta for 3-gram language model with Kneser-Ney smoothing"
   ]
  },
  {
   "cell_type": "code",
   "execution_count": null,
   "metadata": {
    "cellId": "2ix7kzw02v30oye55322all"
   },
   "outputs": [],
   "source": [
    "class KneserNeyLanguageModel(NGramLanguageModel): \n",
    "    \"\"\" A template for Kneser-Ney language model. Default delta may be suboptimal. \"\"\"\n",
    "    def __init__(self, lines, n, delta=1.0):\n",
    "        self.n = n\n",
    "        <YOUR CODE>\n",
    "        \n",
    "    def get_possible_next_tokens(self, prefix):\n",
    "        < YOUR CODE >\n",
    "        \n",
    "    def get_next_token_prob(self, prefix, next_token):\n",
    "        <YOUR CODE>"
   ]
  },
  {
   "cell_type": "code",
   "execution_count": null,
   "metadata": {
    "cellId": "lsk91832qbmdt7x1q0a8z4"
   },
   "outputs": [],
   "source": [
    "#test that it's a valid probability model\n",
    "for n in (1, 2, 3):\n",
    "    dummy_lm = KneserNeyLanguageModel(dummy_lines, n=n)\n",
    "    assert np.allclose(sum([dummy_lm.get_next_token_prob('a', w_i) for w_i in dummy_lm.vocab]), 1), \"I told you not to break anything! :)\""
   ]
  },
  {
   "cell_type": "code",
   "execution_count": null,
   "metadata": {
    "cellId": "pp3jtkk9annp1qkou58x1b"
   },
   "outputs": [],
   "source": [
    "for n in (1, 2, 3):\n",
    "    lm = KneserNeyLanguageModel(train_lines, n=n, smoothing=<...>)\n",
    "    ppx = perplexity(lm, test_lines)\n",
    "    print(\"N = %i, Perplexity = %.5f\" % (n, ppx))"
   ]
  }
 ],
 "metadata": {
  "kernelspec": {
   "display_name": "Python 3 (ipykernel)",
   "language": "python",
   "name": "python3"
  },
  "language_info": {
   "codemirror_mode": {
    "name": "ipython",
    "version": 3
   },
   "file_extension": ".py",
   "mimetype": "text/x-python",
   "name": "python",
   "nbconvert_exporter": "python",
   "pygments_lexer": "ipython3",
   "version": "3.11.5"
  },
  "notebookId": "53997d2d-afb8-4477-8874-b6d46299f06c",
  "notebookPath": "seminar.ipynb"
 },
 "nbformat": 4,
 "nbformat_minor": 4
}
